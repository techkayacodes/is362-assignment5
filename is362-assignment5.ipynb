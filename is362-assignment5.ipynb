{
  "metadata": {
    "kernelspec": {
      "name": "python",
      "display_name": "Python (Pyodide)",
      "language": "python"
    },
    "language_info": {
      "codemirror_mode": {
        "name": "python",
        "version": 3
      },
      "file_extension": ".py",
      "mimetype": "text/x-python",
      "name": "python",
      "nbconvert_exporter": "python",
      "pygments_lexer": "ipython3",
      "version": "3.8"
    }
  },
  "nbformat_minor": 4,
  "nbformat": 4,
  "cells": [
    {
      "cell_type": "code",
      "source": "# Import necessary libraries\nimport pandas as pd\n\n# MARKDOWN CELL:\n# ## Step 1: Import Libraries\n# This notebook begins by importing the necessary Python libraries, primarily pandas, for data manipulation.\n\n# Load the data from GitHub\nairports_url = \"https://raw.githubusercontent.com/tidyverse/nycflights13/main/data-raw/airports.csv\"\nweather_url = \"https://raw.githubusercontent.com/tidyverse/nycflights13/main/data-raw/weather.csv\"\n\nairports = pd.read_csv(airports_url)\nweather = pd.read_csv(weather_url)\n\n# MARKDOWN CELL:\n# ## Step 2: Data Loading\n# The data for airports and weather conditions is loaded from the GitHub repository into pandas DataFrames for analysis.\n\n# Identify Northernmost and Easternmost Airports\nnorthernmost_airports = airports.sort_values(by='lat', ascending=False).head()\neasternmost_airports = airports.sort_values(by='lon', ascending=True).head()\n\n# MARKDOWN CELL:\n# ## Step 3: Identify Northernmost and Easternmost Airports\n# By sorting the airports based on latitude and longitude, we identify the northernmost and easternmost airports in the dataset.\n\n# Display northernmost and easternmost airports\nprint(\"Northernmost Airports:\\n\", northernmost_airports)\nprint(\"\\nEasternmost Airports:\\n\", easternmost_airports)\n\n# MARKDOWN CELL:\n# The northernmost airports are determined by the highest latitude values, while the easternmost airports are identified by sorting the longitude values. \n# Note: The accuracy of the easternmost airport might require considering geographical nuances, such as how longitude values are interpreted globally.\n\n# Find the Windiest New York Area Airport on February 12th, 2013\nweather['time_hour'] = pd.to_datetime(weather['time_hour'])\nwindiest_weather = weather[(weather['time_hour'] >= '2013-02-12') & (weather['time_hour'] < '2013-02-13')]\nwindiest_weather = windiest_weather.groupby('origin')['wind_speed'].mean().reset_index()\nwindiest_airport = windiest_weather.sort_values(by='wind_speed', ascending=False).head(1)\n\n# MARKDOWN CELL:\n# ## Step 4: Find the Windiest New York Area Airport on February 12th, 2013\n# This step involves filtering the weather data for February 12th, 2013, grouping by airport, and calculating the mean wind speed to find the windiest airport.\n\n# Display the windiest airport on February 12th, 2013\nprint(\"Windiest New York Area Airport on February 12th, 2013:\\n\", windiest_airport)\n\n# MARKDOWN CELL:\n# ## Step 5: Documentation and Assumptions\n# - **Northernmost and Easternmost Airports:** This analysis assumes the dataset's accuracy and comprehensiveness. The findings should be validated with additional research.\n# - **Windiest Airport on February 12th, 2013:** The windiest airport is identified based on average wind speed, with potential outliers and data inaccuracies considered in the analysis.\n\n# MARKDOWN CELL:\n# ## Conclusion\n# This notebook provides an analysis to identify the northernmost and easternmost airports in the United States and the windiest New York area airport on February 12th, 2013. Documentation and assumptions are noted for transparency and validation purposes.\n",
      "metadata": {
        "trusted": true
      },
      "outputs": [],
      "execution_count": null
    }
  ]
}